{
 "cells": [
  {
   "cell_type": "code",
   "execution_count": 1,
   "metadata": {},
   "outputs": [],
   "source": [
    "%matplotlib inline"
   ]
  },
  {
   "cell_type": "markdown",
   "metadata": {},
   "source": [
    "\n",
    "# Compact estimator representations\n",
    "\n",
    "\n",
    "This example illustrates the use of the print_changed_only global parameter.\n",
    "\n",
    "Setting print_changed_only to True will alterate the representation of\n",
    "estimators to only show the parameters that have been set to non-default\n",
    "values. This can be used to have more compact representations.\n",
    "\n"
   ]
  },
  {
   "cell_type": "code",
   "execution_count": 5,
   "metadata": {},
   "outputs": [
    {
     "name": "stdout",
     "output_type": "stream",
     "text": [
      "Automatically created module for IPython interactive environment\n",
      "Default representation:\n",
      "LogisticRegression(C=1.0, class_weight=None, dual=False, fit_intercept=True,\n",
      "          intercept_scaling=1, max_iter=100, multi_class='warn',\n",
      "          n_jobs=None, penalty='l1', random_state=None, solver='warn',\n",
      "          tol=0.0001, verbose=0, warm_start=False)\n"
     ]
    },
    {
     "ename": "TypeError",
     "evalue": "set_config() got an unexpected keyword argument 'print_changed_only'",
     "output_type": "error",
     "traceback": [
      "\u001b[0;31m---------------------------------------------------------------------------\u001b[0m",
      "\u001b[0;31mTypeError\u001b[0m                                 Traceback (most recent call last)",
      "\u001b[0;32m<ipython-input-5-5e94558a5799>\u001b[0m in \u001b[0;36m<module>\u001b[0;34m\u001b[0m\n\u001b[1;32m     16\u001b[0m \u001b[0;31m#                    warm_start=False)\u001b[0m\u001b[0;34m\u001b[0m\u001b[0;34m\u001b[0m\u001b[0;34m\u001b[0m\u001b[0m\n\u001b[1;32m     17\u001b[0m \u001b[0;34m\u001b[0m\u001b[0m\n\u001b[0;32m---> 18\u001b[0;31m \u001b[0mset_config\u001b[0m\u001b[0;34m(\u001b[0m\u001b[0mprint_changed_only\u001b[0m\u001b[0;34m=\u001b[0m\u001b[0;32mTrue\u001b[0m\u001b[0;34m)\u001b[0m\u001b[0;34m\u001b[0m\u001b[0;34m\u001b[0m\u001b[0m\n\u001b[0m\u001b[1;32m     19\u001b[0m \u001b[0mprint\u001b[0m\u001b[0;34m(\u001b[0m\u001b[0;34m'\\nWith changed_only option:'\u001b[0m\u001b[0;34m)\u001b[0m\u001b[0;34m\u001b[0m\u001b[0;34m\u001b[0m\u001b[0m\n\u001b[1;32m     20\u001b[0m \u001b[0mprint\u001b[0m\u001b[0;34m(\u001b[0m\u001b[0mlr\u001b[0m\u001b[0;34m)\u001b[0m\u001b[0;34m\u001b[0m\u001b[0;34m\u001b[0m\u001b[0m\n",
      "\u001b[0;31mTypeError\u001b[0m: set_config() got an unexpected keyword argument 'print_changed_only'"
     ]
    }
   ],
   "source": [
    "# run with python3, sklearn 0.20.3\n",
    "\n",
    "print(__doc__)\n",
    "\n",
    "from sklearn.linear_model import LogisticRegression\n",
    "from sklearn import set_config\n",
    "\n",
    "\n",
    "lr = LogisticRegression(penalty='l1')\n",
    "print('Default representation:')\n",
    "print(lr)\n",
    "# LogisticRegression(C=1.0, class_weight=None, dual=False, fit_intercept=True,\n",
    "#                    intercept_scaling=1, l1_ratio=None, max_iter=100,\n",
    "#                    multi_class='warn', n_jobs=None, penalty='l1',\n",
    "#                    random_state=None, solver='warn', tol=0.0001, verbose=0,\n",
    "#                    warm_start=False)\n",
    "\n",
    "set_config(print_changed_only=True)\n",
    "print('\\nWith changed_only option:')\n",
    "print(lr)\n",
    "# LogisticRegression(penalty='l1')"
   ]
  },
  {
   "cell_type": "code",
   "execution_count": 4,
   "metadata": {},
   "outputs": [
    {
     "name": "stdout",
     "output_type": "stream",
     "text": [
      "Help on function set_config in module sklearn._config:\n",
      "\n",
      "set_config(assume_finite=None, working_memory=None)\n",
      "    Set global scikit-learn configuration\n",
      "    \n",
      "    .. versionadded:: 0.19\n",
      "    \n",
      "    Parameters\n",
      "    ----------\n",
      "    assume_finite : bool, optional\n",
      "        If True, validation for finiteness will be skipped,\n",
      "        saving time, but leading to potential crashes. If\n",
      "        False, validation for finiteness will be performed,\n",
      "        avoiding error.  Global default: False.\n",
      "    \n",
      "        .. versionadded:: 0.19\n",
      "    \n",
      "    working_memory : int, optional\n",
      "        If set, scikit-learn will attempt to limit the size of temporary arrays\n",
      "        to this number of MiB (per job when parallelised), often saving both\n",
      "        computation time and memory on expensive operations that can be\n",
      "        performed in chunks. Global default: 1024.\n",
      "    \n",
      "        .. versionadded:: 0.20\n",
      "\n"
     ]
    }
   ],
   "source": [
    "help(set_config)"
   ]
  },
  {
   "cell_type": "code",
   "execution_count": 7,
   "metadata": {},
   "outputs": [],
   "source": [
    "# print_changed_only : bool, optional\n",
    "# If True, only the parameters that were set to non-default values will be printed when printing an estimator. For example, print(SVC()) while True will only print ‘SVC()’ while the default behaviour would be to print ‘SVC(C=1.0, cache_size=200, …)’ with all the non-changed parameters.\n",
    "\n",
    "# New in version 0.21."
   ]
  },
  {
   "cell_type": "code",
   "execution_count": null,
   "metadata": {},
   "outputs": [],
   "source": [
    "v20版本不含有这个参数\n",
    "\n",
    "Name: scikit-learn\n",
    "Version: 0.20.3\n",
    "Summary: A set of python modules for machine learning and data mining\n",
    "Home-page: http://scikit-learn.org\n",
    "Author: None\n",
    "Author-email: None\n",
    "License: new BSD\n",
    "Location: /Users/gongjing/anaconda3/lib/python3.7/site-packages\n",
    "Requires: scipy, numpy\n",
    "Required-by:"
   ]
  },
  {
   "cell_type": "code",
   "execution_count": null,
   "metadata": {},
   "outputs": [],
   "source": []
  }
 ],
 "metadata": {
  "kernelspec": {
   "display_name": "Python 3",
   "language": "python",
   "name": "python3"
  },
  "language_info": {
   "codemirror_mode": {
    "name": "ipython",
    "version": 3
   },
   "file_extension": ".py",
   "mimetype": "text/x-python",
   "name": "python",
   "nbconvert_exporter": "python",
   "pygments_lexer": "ipython3",
   "version": "3.7.3"
  }
 },
 "nbformat": 4,
 "nbformat_minor": 1
}
